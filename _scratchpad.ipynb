{
  "cells": [
    {
      "cell_type": "markdown",
      "metadata": {
        "id": "view-in-github",
        "colab_type": "text"
      },
      "source": [
        "<a href=\"https://colab.research.google.com/github/renyuanL/cguFinTech2024/blob/main/_scratchpad.ipynb\" target=\"_parent\"><img src=\"https://colab.research.google.com/assets/colab-badge.svg\" alt=\"Open In Colab\"/></a>"
      ]
    },
    {
      "cell_type": "code",
      "source": [
        "!pip install wikipedia\n",
        "import wikipedia\n",
        "\n",
        "candidate_entity = \"Microsoft\"\n",
        "\n",
        "page= wikipedia.page(candidate_entity)#, auto_suggest=False)\n",
        "\n",
        "print(\"page.title= \", page.title)\n",
        "print(\"page.url= \", page.url)\n",
        "print(\"page.summary= \", page.summary)"
      ],
      "metadata": {
        "id": "sJa5A1YSPLhX"
      },
      "execution_count": null,
      "outputs": []
    },
    {
      "cell_type": "code",
      "source": [
        "dir(page)"
      ],
      "metadata": {
        "id": "My9YM2d6TGeT"
      },
      "execution_count": null,
      "outputs": []
    },
    {
      "cell_type": "code",
      "source": [
        "page.url"
      ],
      "metadata": {
        "id": "UAIgaNTMTPdB"
      },
      "execution_count": null,
      "outputs": []
    },
    {
      "cell_type": "code",
      "source": [
        "page.content"
      ],
      "metadata": {
        "id": "5s7NUgAdVrWp"
      },
      "execution_count": null,
      "outputs": []
    },
    {
      "cell_type": "code",
      "source": [
        "page.coordinates"
      ],
      "metadata": {
        "id": "raUKxmToVwY0"
      },
      "execution_count": null,
      "outputs": []
    },
    {
      "cell_type": "code",
      "source": [
        "page.html()"
      ],
      "metadata": {
        "id": "cpD2UnDJV0T0"
      },
      "execution_count": null,
      "outputs": []
    },
    {
      "cell_type": "code",
      "source": [
        "page.url"
      ],
      "metadata": {
        "id": "izGdKSFbV2vI"
      },
      "execution_count": null,
      "outputs": []
    },
    {
      "cell_type": "code",
      "source": [],
      "metadata": {
        "id": "3COxZ9OSWCiP"
      },
      "execution_count": null,
      "outputs": []
    }
  ],
  "metadata": {
    "colab": {
      "provenance": [],
      "include_colab_link": true
    },
    "kernelspec": {
      "display_name": "Python 3",
      "name": "python3"
    }
  },
  "nbformat": 4,
  "nbformat_minor": 0
}